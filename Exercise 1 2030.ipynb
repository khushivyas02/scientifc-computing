{
 "cells": [
  {
   "cell_type": "markdown",
   "id": "46ad034b",
   "metadata": {},
   "source": [
    "__Dhyan Thakkar__\n",
    "<br>\n",
    "Date: Jan. 12, 2021\n",
    "<br>\n",
    "PHYS 2030 W22"
   ]
  },
  {
   "cell_type": "markdown",
   "id": "b38e2d5c",
   "metadata": {},
   "source": [
    "# <center><font color=#46769B>Exercise 1: Error propagation via random sampling</font></center>\n",
    "\n",
    "## <font color=#46769B>Introduction:</font>\n",
    "\n",
    "Our goals for this notebook are:\n",
    "- Practice with sampling from normal distributions.\n",
    "- Practice some basics of using `numpy` and `matplotlib.pyplot`.\n",
    "- Learn a new technique for propagation of errors.\n",
    "\n",
    "Required reading:\n",
    "- *Lesson 1: Normal distributions*\n",
    "\n",
    "Guidelines: \n",
    "- You are allowed to use resources such as websites or textbooks if you need help figuring things out. \n",
    "- You are *not allowed* to work with any collaborators on this assignment, including your peers or tutoring services.\n",
    "\n",
    "By submitting this assignment, you acknowledge: \n",
    "- Any code written here is the result of your own work and is written by you.\n",
    "- Any information sources (e.g., websites) used outside of the course material will be *cited* (provide URLs). "
   ]
  },
  {
   "cell_type": "markdown",
   "id": "b03c89b7",
   "metadata": {},
   "source": [
    "## <font color=#46769B>Error propagation:</font>\n",
    "\n",
    "In lab courses, it is standard practice to do error propagation. For example, suppose you have two measured quantities $A,B$. That is, you have their mean values $\\langle A \\rangle$, $\\langle B\\rangle$, and their uncertainties $\\Delta A,\\Delta B$. \n",
    "Now suppose you want to calculate the mean and error for a new quantity $C = f(A,B)$ that is a function of $A,B$. What do you do?\n",
    "- Take the mean to be $\\langle C \\rangle = f(\\langle A \\rangle, \\langle B \\rangle)$. But you may wonder: is this an approximation or is it always true? \n",
    "- Calculate the error $\\Delta C$ using the rules for error propagation. How straightforward this is depends on how complex $f$ is (and how well one remembers the rules).\n",
    "\n",
    "Random sampling is another way to approach this problem. There is just one procedure to remember.\n",
    "- Generate random samples for $A$ and $B$. That is, you generate a list of $N$ values for each quantity<font color=red>$^1$</font>\n",
    "$$\\left(A_0, A_1, ..., A_{N-1}\\right) \\, ,  \\qquad \\left(B_0, B_1, ..., B_{N-1}\\right)\\, .$$\n",
    "- For every pair $A_i, B_i$, compute $C_i = f(A_i, B_i)$ to generate samples for $C$:\n",
    "$$\\left(C_0, C_1, ..., C_{N-1}\\right)\\, .$$\n",
    "- Using your samples for $C$, calculate the mean value $\\langle C \\rangle$ and standard deviation for $\\Delta C$.\n",
    "\n",
    "There are two things to keep in mind:\n",
    "- $N$ must be large enough so that your values for $\\langle C \\rangle$ and $\\Delta C$ converge, i.e., you get the same result (up to significant figures) for multiple simulations.\n",
    "- How you sample quantities $A,B$ is up to you. A normal distribution is typically *default* assumption for how to sample, especially if the errors quoted for $A,B$ are *random* or *statitistical* errors.<font color=red>$^2$</font> But you can sample in a different way if you have more information about the problem, or if you want to include systematic errors (we will see an example below).\n",
    "\n",
    "### <font color=#46769B>Footnotes:</font>\n",
    "\n",
    "<font color=red>$^1$</font> Note since Python counting starts at zero, I will follow the same numbering conventions though it looks a bit messier.\n",
    "\n",
    "<font color=red>$^2$</font> *Random* errors are due to the fact that repeated measurements will not give exactly the same results each time, due to unpredictable differences in the measurement setup or observer. This is why one performs multiple measurements and averages over them. For example, you measure a length with a ruler and get ten slightly different numbers each time. In contrast, *systematic* errors are errors that are the same for all measurements. For example, suppose your ruler is of poor quality and all lengths skewed too short by 5\\%.\n"
   ]
  },
  {
   "cell_type": "markdown",
   "id": "f3b21bd7",
   "metadata": {},
   "source": [
    "## <font color=#46769B>Part 1: Pendulum</font>\n",
    "\n",
    "The standard formula for the oscillation period of a pendulum is\n",
    "$$T = 2\\pi \\sqrt{L/g}$$\n",
    "where $g$ is the gravitational acceleration and $L$ is the length of the pendulum. Suppose we have measured the period and length of the pendulum to be:\n",
    "$$T = 1.835 \\pm 0.005 \\; {\\rm s} \\, , \\qquad L = 0.855 \\pm 0.002 \\; {\\rm m} \\, .$$\n",
    "\n",
    "### <font color=#46769B>Part (1a)</font>\n",
    "Using random sampling for $T$ and $L$, determine $g$, with a sample size of $N=100$.\n",
    "- Assume the errors quoted for $T$ and $L$ are random errors and generate samples using a normal distribution.\n",
    "- Determine both the mean $\\langle g \\rangle$ and uncertainty $\\Delta g$. Write *your own* code for calculating the mean and standard deviations for your samples for $g$ and verify that it agrees with what you get using `numpy.mean` and `numpy.std`.\n",
    "- Plot a histogram for your samples for $g$, choosing a suitable number of histogram bins.\n",
    "\n",
    "### <font color=#46769B>Part (2b)</font>\n",
    "- Repeat part (a) for a larger value of $N$ where your results have converged.\n",
    "- Compare your histogram for $g$ to a normal distribution of mean $\\mu=\\langle g \\rangle$ and standard deviation $\\sigma = \\Delta g$. (Make a plot of the normal distribution on top of the histogram. Be sure to normalize your histogram and choose a suitable number of bins.)"
   ]
  },
  {
   "cell_type": "code",
   "execution_count": 2,
   "id": "c2626937",
   "metadata": {},
   "outputs": [
    {
     "name": "stdout",
     "output_type": "stream",
     "text": [
      "The mean of g found with my code is:  10.016632945175232\n",
      "The mean found using numpy is:  10.016632945175227\n",
      "The standard deviation of g found with my code is:  0.0569942660952306\n",
      "The standard deviation of g found with numpy is:  0.05699426609523061\n"
     ]
    },
    {
     "data": {
      "image/png": "[encoded data removed]",
      "text/plain": [
       "<Figure size 432x288 with 1 Axes>"
      ]
     },
     "metadata": {
      "needs_background": "light"
     },
     "output_type": "display_data"
    }
   ],
   "source": [
    "\n",
    "import numpy as np\n",
    "import matplotlib.pyplot as plt\n",
    "\n",
    "#Defining parameters\n",
    "muT = 1.835\n",
    "sigmaT = 0.005\n",
    "muL = 0.855\n",
    "sigmaL = 0.002\n",
    "N = 100\n",
    "\n",
    "#Generating random sample for N = 100\n",
    "arrT = np.random.normal(muT,sigmaT,N)\n",
    "arrL = np.random.normal(muL,sigmaL,N)\n",
    "\n",
    "#Creating a random array of g N values as a function of T and L \n",
    "arrg = arrL*(2*np.pi/arrT)**2\n",
    "\n",
    "#Finding mean of g \n",
    "total_sumg = sum(arrg)\n",
    "mean_g = total_sumg/N\n",
    "print(\"The mean of g found with my code is: \", mean_g)\n",
    "print(\"The mean found using numpy is: \", np.mean(arrg))\n",
    "\n",
    "#Finding the variance of g\n",
    "var_g = sum((i - mean_g)**2 for i in arrg)/ N\n",
    "\n",
    "#Finding the standard deviation of g \n",
    "std_g = var_g**0.5\n",
    "print(\"The standard deviation of g found with my code is: \", std_g)\n",
    "print(\"The standard deviation of g found with numpy is: \", np.std(arrg))\n",
    "\n",
    "#Plotting the histogram \n",
    "plt.hist(arrg,bins=15,density=True, color = 'purple', label = 'Sampling')\n",
    "plt.legend()\n",
    "plt.show()"
   ]
  },
  {
   "cell_type": "code",
   "execution_count": 3,
   "id": "4d35bdd1",
   "metadata": {},
   "outputs": [
    {
     "name": "stdout",
     "output_type": "stream",
     "text": [
      "The mean value of g is:  10.024507047044475\n",
      "The standard deviation of g is:  0.059453400873648095\n"
     ]
    },
    {
     "data": {
      "image/png": "[encoded data removed]",
      "text/plain": [
       "<Figure size 432x288 with 1 Axes>"
      ]
     },
     "metadata": {
      "needs_background": "light"
     },
     "output_type": "display_data"
    }
   ],
   "source": [
    "#Part 2b, using larger value of N \n",
    "import numpy as np \n",
    "import matplotlib.pyplot as plt\n",
    "\n",
    "#Defining parameters\n",
    "muT = 1.835\n",
    "sigmaT = 0.005\n",
    "muL = 0.855\n",
    "sigmaL = 0.002\n",
    "N_2 = 100000 \n",
    "\n",
    "#Generating random sample for N_2 = 100000 \n",
    "arrT2 = np.random.normal(muT,sigmaT,N_2)\n",
    "arrL2 = np.random.normal(muL,sigmaL,N_2)\n",
    "\n",
    "#Creating a random array of g N_2 values as a function of T and L \n",
    "arrg2 = arrL2*(2*np.pi/arrT2)**2\n",
    "\n",
    "#Finding mean of g\n",
    "mean_g2 = np.mean(arrg2)\n",
    "print(\"The mean value of g is: \", mean_g2)\n",
    "\n",
    "#Finding standard deviation of g \n",
    "std_g2 = np.std(arrg2)\n",
    "print(\"The standard deviation of g is: \", std_g2)\n",
    "\n",
    "#Plotting the histogram with the normal distribution\n",
    "plt.hist(arrg2,bins=18,density=True, color = 'purple', label = 'Sampling')\n",
    "x = np.linspace(9.8,10.2, 300)\n",
    "y = 1/np.sqrt(2*np.pi*std_g2**2) * np.exp(-0.5*(x-mean_g2)**2/std_g2**2)\n",
    "plt.plot(x,y,label='normal dist.', color = 'gold')\n",
    "plt.legend()\n",
    "plt.show()"
   ]
  },
  {
   "cell_type": "markdown",
   "id": "f0cd5c7f",
   "metadata": {},
   "source": [
    "# Citations\n",
    "\n",
    "https://stackoverflow.com/questions/66117039/is-there-a-python-function-which-sums-all-values-in-an-array\n",
    "\n",
    "https://stackoverflow.com/questions/70087607/how-do-i-calculate-standard-deviation-in-python-without-using-numpy"
   ]
  },
  {
   "cell_type": "markdown",
   "id": "96bf4767",
   "metadata": {},
   "source": [
    "## <font color=#46769B>Part 2: Pendulum continued</font>\n",
    "\n",
    "Here we will consider the same example with an extra source of systematic error.\n",
    "\n",
    "Suppose we learn that the timing setup used for measuring the period $T$ may suffer from a uniform time delay $\\delta T$ from starting and stopping. That is, oscillation formula becomes\n",
    "$$T_0 = 2\\pi \\sqrt{L/g}$$\n",
    "where $T_0 = T + \\delta T$ is the *true* oscillation period and $T$ is the quantity we measure (given above). \n",
    "\n",
    "Suppose we know that $\\delta T$ is between $0-0.05$ s, but is otherwise unknown and all values in this range are equally likely. It makes sense to sample $\\delta T$ from a uniform distribution in the range $[0,0.05]$. (That is, you will sample $T_0$ as the *sum* of a normally-distributed variable $T$ and a uniformly sampled variable $\\delta T$.)\n",
    "\n",
    "- Using the values quoted above for $T$ and $L$, and including $\\delta T$ in your analysis, determine the mean value and uncertainty for $g$ (choose $N$ large enough so that these values have converged).\n",
    "\n",
    "- Compare your histogram for $g$ to a normal distribution of mean $\\mu=\\langle g \\rangle$ and standard deviation $\\sigma = \\Delta g$. (Make a plot of the normal distribution on top of the histogram. Be sure to normalize your histogram and choose a suitable number of bins.)"
   ]
  },
  {
   "cell_type": "code",
   "execution_count": 4,
   "id": "79e7723e",
   "metadata": {},
   "outputs": [
    {
     "name": "stdout",
     "output_type": "stream",
     "text": [
      "The mean value of g is:  9.759224498368619\n",
      "The standard deviation of g is:  0.1618851235000398\n"
     ]
    },
    {
     "data": {
      "image/png": "[encoded data removed]",
      "text/plain": [
       "<Figure size 432x288 with 1 Axes>"
      ]
     },
     "metadata": {
      "needs_background": "light"
     },
     "output_type": "display_data"
    }
   ],
   "source": [
    "import numpy as np\n",
    "import matplotlib.pyplot as plt\n",
    "\n",
    "#defining the parameters\n",
    "muT = 1.835\n",
    "sigmaT = 0.005\n",
    "muL = 0.855\n",
    "sigmaL = 0.002\n",
    "N_2 = 100000 \n",
    "\n",
    "#Generating random sample for N_2 = 100000 \n",
    "arrT2 = np.random.normal(muT,sigmaT,N_2)\n",
    "arrL2 = np.random.normal(muL,sigmaL,N_2)\n",
    "\n",
    "#Generating a uniform sampling for deltaT\n",
    "arr_t0 = 0 + (0.05-0)*np.random.rand(100000)\n",
    "\n",
    "#Generating an array for g\n",
    "arrg3 = arrL2*(2*np.pi/(arrT2+arr_t0))**2\n",
    "\n",
    "#Finding mean of g\n",
    "mean_g3 = np.mean(arrg3)\n",
    "print(\"The mean value of g is: \", mean_g3)\n",
    "\n",
    "#Finding standard deviation of g \n",
    "std_g3 = np.std(arrg3)\n",
    "print(\"The standard deviation of g is: \", std_g3)\n",
    "\n",
    "#Plotting the histogram with the normal distribution\n",
    "plt.hist(arrg3,bins=18,density=True, color = 'purple', label = 'Sampling')\n",
    "x = np.linspace(9.2,10.2, 300)\n",
    "y = 1/np.sqrt(2*np.pi*std_g3**2) * np.exp(-0.5*(x-mean_g3)**2/std_g3**2)\n",
    "plt.plot(x,y,label='normal dist.', color = 'gold')\n",
    "plt.legend()\n",
    "plt.show()"
   ]
  },
  {
   "cell_type": "code",
   "execution_count": null,
   "id": "fa288662",
   "metadata": {},
   "outputs": [],
   "source": []
  }
 ],
 "metadata": {
  "kernelspec": {
   "display_name": "Python 3 (ipykernel)",
   "language": "python",
   "name": "python3"
  },
  "language_info": {
   "codemirror_mode": {
    "name": "ipython",
    "version": 3
   },
   "file_extension": ".py",
   "mimetype": "text/x-python",
   "name": "python",
   "nbconvert_exporter": "python",
   "pygments_lexer": "ipython3",
   "version": "3.9.7"
  }
 },
 "nbformat": 4,
 "nbformat_minor": 5
}
